{
  "nbformat": 4,
  "nbformat_minor": 0,
  "metadata": {
    "colab": {
      "provenance": []
    },
    "kernelspec": {
      "name": "python3",
      "display_name": "Python 3"
    },
    "language_info": {
      "name": "python"
    }
  },
  "cells": [
    {
      "cell_type": "code",
      "execution_count": null,
      "metadata": {
        "id": "9MYUUJi0Vj7C"
      },
      "outputs": [],
      "source": []
    },
    {
      "cell_type": "markdown",
      "source": [
        "### Exercícios (utilize apenas conteúdos vistos em aula)\n",
        "\n",
        "1. Faça um programa mostre o seu primeiro nome na tela.\n",
        "\n",
        "\n",
        "2. Faça um programa que pede o primeiro nome do usuário e um sobrenome e mostra os dois nomes digitados na tela.\n",
        "\n",
        "3. Faça um programa que mostra um X bem grande na tela, utilizando o print (um ou mais vezes). Obs.: esse X deverá ter, pelo menos altura de 7 caracteres. Desafio: fazer essa tarefa em um único print.\n",
        "\n",
        "4. Faça um programa que pede o dia e mês de aniversário e diz quantos dias faltam para o aniversário, quantos dias se passaram do aniversário ou se hoje é o aniversário do usuário. (obs.: não utilize bibliotecas)\n",
        "\n",
        "5. Sua tarefa é criar um programa em Python que pede o preço original de um produto e dá 20% de desconto.\n",
        "\n",
        "    Você deve mostrar uma tabela contendo:    \n",
        "a. Preço original do produto.  \n",
        "b. Valor do desconto em R\\$ (tipo 'Você ganho R$ xx,xx de desconto').  \n",
        "c. Valor do produto com o desconto.\n",
        "\n",
        "6. Generalize o problema anterior, perguntando a porcentagem de desconto e mostrando os mesmos dados acima.\n",
        "\n",
        "7. Faça um programa que peça 3 valores e calcula sua média aritmética simples, mostrando esse resultado na tela.\n",
        "\n",
        "8. Faça um programa que peça 4 valores positivos e calcula:  \n",
        "    a. A média aritmética simples.  \n",
        "    b. A média geométrica.  \n",
        "    c. A média harmônica\n",
        "\n",
        "9. Faça um programa que peça 4 números reais e calcula:  \n",
        "    a. A média aritmética simples.  \n",
        "    b. A variância desses dados.  \n",
        "    c. O desvio padrão desses dados.\n",
        "\n",
        "\n",
        "10. Faça um programa que, dados 3 números inteiros, mostre na tela o maior deles.\n",
        "\n",
        "11. Faça um programa que, dados 3 números inteiros, mostre na tela esses números em ordem crescente.\n",
        "\n",
        "\n",
        "\n",
        "12. Faça um programa que, dados 3 strings, mostra essas strings em ordem alfabética.\n",
        "\n",
        "\n",
        "13. Faça um programa que peça a informação se o usuário é homem ou mulher, o peso, a altura e a idade e mostre na tela o TMB em calorias.   \n",
        "A Taxa Metabólica Basal (TMB) é a quantidade mínima de energia que o corpo precisa para manter as funções vitais, como respiração, circulação e temperatura corporal, em repouso. A TMB representa cerca de 60% a 70% do gasto energético total diário de uma pessoa e varia de acordo com o sexo, a idade, o peso e a altura.\n",
        "\n",
        "    Para calcular a TMB manualmente, você deve usar as seguintes fórmulas da equação de Harris-Benedict:\n",
        "\n",
        "    Para homens: TMB = 66,47 + (13,75 x peso em kg) + (5,003 x altura em cm) - (6,755 x idade em anos)\n",
        "    \n",
        "    Para mulheres: TMB = 655,09 + (9,563 x peso em kg) + (1,85 x altura em cm) - (4,676 x idade em anos)  \n",
        "     \n",
        "\n",
        "14. Faça um programa que peça um número inteiro para o usuário e mostra a tabuada desse número.\n",
        "\n",
        "    "
      ],
      "metadata": {
        "id": "LM-BU28PWg9K"
      }
    }
  ]
}