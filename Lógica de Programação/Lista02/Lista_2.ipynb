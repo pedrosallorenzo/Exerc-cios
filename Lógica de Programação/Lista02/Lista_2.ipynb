{
  "cells": [
    {
      "cell_type": "code",
      "execution_count": null,
      "metadata": {
        "id": "dCXhfiY6_dhg"
      },
      "outputs": [],
      "source": []
    },
    {
      "cell_type": "code",
      "execution_count": null,
      "metadata": {},
      "outputs": [],
      "source": []
    },
    {
      "cell_type": "markdown",
      "metadata": {
        "id": "Z3kHxPgBOewf"
      },
      "source": [
        "## Para essa lista, não utilize nenhuma biblioteca ou funções não mostradas em sala"
      ]
    },
    {
      "cell_type": "markdown",
      "metadata": {
        "id": "jZB7Gg2ME8H3"
      },
      "source": [
        "1. Faça um programa que peça números inteiros ao usuário e calcula a média dos valores digitados. O programa deverá parar quando o usuário digitar um número negativo (que não deverá ser incluído no cálculo)."
      ]
    },
    {
      "cell_type": "markdown",
      "metadata": {
        "id": "AF_NBZD4E--E"
      },
      "source": [
        "2. Faça um programa que peça números inteiros ao usuário e conta quantos números positivos e quantos números negativos foram digitados. O programa deverá parar quando o número zero for digitado, mostrando a tela os resultados."
      ]
    },
    {
      "cell_type": "markdown",
      "metadata": {
        "id": "1b4ISCUnFDkJ"
      },
      "source": [
        "\n",
        "3. Faça um programa que peça uma nota, entre zero e dez. Mostre uma mensagem caso o valor seja inválido e continue pedindo até que o usuário informe um valor válido."
      ]
    },
    {
      "cell_type": "markdown",
      "metadata": {
        "id": "azFRtBFKFG89"
      },
      "source": [
        "\n",
        "4. Faça um programa que peça o valor total de um orçamento (valor igual ou maior do que R$100.00). Então, peça vários valores de serviço até chegar no valor total e mostre na tela o valor de cada serviço que será executado. Note que nem sempre será possível utilizar todo orçamento. Quando o valor do serviço estourar ou consumir todo orçamento, o programa deverá avisar que nenhum outro serviço poderá ser pedido."
      ]
    },
    {
      "cell_type": "markdown",
      "metadata": {
        "id": "d1K0qgLuFLql"
      },
      "source": [
        "5. Faça um programa que leia e valide as seguintes informações:  \n",
        "    a. Nome: maior que 3 caracteres;  \n",
        "    b. Idade: entre 0 e 150;   \n",
        "    c. Salário: maior que zero;  \n",
        "    d. Sexo: 'f' ou 'm';  \n",
        "    e. Estado Civil: 's', 'c', 'v', 'd';   \n",
        "    \n",
        "    Caso alguma condição seja violada, peça para o usuário entrar novamente o valor.\n",
        "\n",
        "    Use a função len(string) para saber o tamanho de um texto (número de caracteres)."
      ]
    },
    {
      "cell_type": "markdown",
      "metadata": {
        "id": "yNVzswkjFTFE"
      },
      "source": [
        "6. Faça um programa que peça dois números inteiros positivos, base e expoente, calcule e mostre o primeiro número elevado ao segundo número. Não utilize a função ou o operador de potência da linguagem. (faça esse programa utilizando o while)"
      ]
    },
    {
      "cell_type": "markdown",
      "metadata": {
        "id": "DmHku2PQGWdP"
      },
      "source": [
        "7. Faça um programa que peça um número inteiro e mostre a tabuada desse número na tela. Faça utilizando o for. (Essa tarefa poderia ser feita utilizando o while? Por quê?)"
      ]
    },
    {
      "cell_type": "markdown",
      "metadata": {
        "id": "5CmPnnXOGxrv"
      },
      "source": [
        "8. Faça um programa que peça um número inteiro positivo n e mostre os n primeiros números da sequência de Fibonacci.\n"
      ]
    },
    {
      "cell_type": "markdown",
      "metadata": {
        "id": "_68EdPiEHQNU"
      },
      "source": [
        "9. Faça um programa que peça um número inteiro não negativo n e mostre o valor de n fatorial (n!)."
      ]
    },
    {
      "cell_type": "markdown",
      "metadata": {
        "id": "idPGZDK9HkLF"
      },
      "source": [
        "10. Faça um programa que peça um número inteiro e determine se esse número é um número primo. (Um número é primo se ele for divisível somente por ele mesmo e por 1)."
      ]
    },
    {
      "cell_type": "markdown",
      "metadata": {
        "id": "LiN-wnyRMoOi"
      },
      "source": [
        "11. Faça um programa que peça dois números inteiros positivos e mostra o máximo divisor comum (MDC) e o mínimo múltiplo comum (MMC) desses números."
      ]
    },
    {
      "cell_type": "markdown",
      "metadata": {
        "id": "U83IiC1VM6dc"
      },
      "source": [
        "12. Faça um programa que peça a razão e primeiro termo de uma PA (progressão aritmética). Peça um número inteiro positivo n e mostra os n primeiros termos dessa PA."
      ]
    },
    {
      "cell_type": "markdown",
      "metadata": {
        "id": "aJH4EAojNlHq"
      },
      "source": [
        "13. Faça um programa que peça a razão e terceiro termo de uma PA (progressão aritmética). Peça um número inteiro positivo n (maior do que 3) e mostra os n primeiros termos dessa PA."
      ]
    },
    {
      "cell_type": "markdown",
      "metadata": {
        "id": "EBeJ8-ufNxLU"
      },
      "source": [
        "14. Faça um programa que peça a razão e quarto termo de uma PA (progressão aritmética). Peça um número inteiro positivo n e mostra a soma dos n primeiros termos dessa PA."
      ]
    },
    {
      "cell_type": "markdown",
      "metadata": {
        "id": "e8XG0-muNc82"
      },
      "source": [
        "15. Faça um programa que peça a razão e primeiro termo de uma PG (progressão geométrica). Peça um número inteiro positivo n e mostra os n primeiros termos dessa PG."
      ]
    },
    {
      "cell_type": "markdown",
      "metadata": {
        "id": "OIGtwqcDOFlS"
      },
      "source": [
        "16. Faça um programa que peça a razão e terceiro termo de uma PG (progressão geométrica). Peça um número inteiro positivo n (maior do que 3) e mostra os n primeiros termos e a soma dos n primeiros termos dessa PG."
      ]
    },
    {
      "cell_type": "markdown",
      "metadata": {
        "id": "SSZ1RDCZOE0U"
      },
      "source": [
        "17. Faça um programa que peça o valor presente (capital inicial), a taxa de juros mensais (i) e o período em meses(n). Então, o programa deve calcular e mostrar a evolução do valor futuro (montante) a cada um dos n meses."
      ]
    },
    {
      "cell_type": "markdown",
      "metadata": {
        "id": "Ru07Ip92PQaj"
      },
      "source": [
        "18. Faça um programa que pede o valor que será depositado todos o meses, o valor da taxa de juros mensal e o total de meses (n) . O programa deverá mostrar na tela o valor do montante e o valor dos juros em cada um dos n meses."
      ]
    },
    {
      "cell_type": "markdown",
      "metadata": {
        "id": "VwM0pkrrGmrp"
      },
      "source": [
        "19. Faça um programa que pede o número n de provas e as n notas e calcula a média e o desvio padrão dessas notas."
      ]
    },
    {
      "cell_type": "markdown",
      "metadata": {
        "id": "vi2enrhTJYLc"
      },
      "source": [
        "20. Faça um programa que peça um número inteiro positivo e mostra esse número no sistema binário."
      ]
    }
  ],
  "metadata": {
    "colab": {
      "provenance": []
    },
    "kernelspec": {
      "display_name": "Python 3",
      "name": "python3"
    },
    "language_info": {
      "name": "python"
    }
  },
  "nbformat": 4,
  "nbformat_minor": 0
}
